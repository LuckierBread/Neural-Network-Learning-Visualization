{
 "cells": [
  {
   "cell_type": "code",
   "execution_count": 35,
   "metadata": {},
   "outputs": [],
   "source": [
    "import tensorflow as tf\n",
    "from tensorflow.keras.datasets import mnist\n",
    "from tensorflow.keras.models import Sequential\n",
    "from tensorflow.keras.layers import Dense, Flatten\n",
    "from tensorflow.keras.callbacks import LambdaCallback\n",
    "import matplotlib.pyplot as plt\n",
    "import seaborn as sns\n",
    "import numpy as np\n",
    "import pandas as pd\n"
   ]
  },
  {
   "cell_type": "code",
   "execution_count": 36,
   "metadata": {},
   "outputs": [
    {
     "name": "stdout",
     "output_type": "stream",
     "text": [
      "                                  names  labels  1  2  3  4  5  6  7  8  ...  \\\n",
      "0                    GrandHotel-Regular       2  0  0  0  0  0  0  0  0  ...   \n",
      "1            EncodeSansCondensed-Medium       8  0  0  0  0  0  0  0  0  ...   \n",
      "2                        Varela-Regular       4  0  0  0  0  0  0  0  0  ...   \n",
      "3                        ArefRuqaa-Bold       3  0  0  0  0  0  0  0  0  ...   \n",
      "4                     KulimPark-Regular       1  0  0  0  0  0  0  0  0  ...   \n",
      "...                                 ...     ... .. .. .. .. .. .. .. ..  ...   \n",
      "29895                     Raleway[wght]       7  0  0  0  0  0  0  0  0  ...   \n",
      "29896                     Charm-Regular       5  0  0  0  0  0  0  0  0  ...   \n",
      "29897  BigShouldersStencilDisplay-Black       0  0  0  0  0  0  0  0  0  ...   \n",
      "29898                  Gabriela-Regular       1  0  0  0  0  0  0  0  0  ...   \n",
      "29899                       Ovo-Regular       6  0  0  0  0  0  0  0  0  ...   \n",
      "\n",
      "       775  776  777  778  779  780  781  782  783  784  \n",
      "0        0    0    0    0    0    0    0    0    0    0  \n",
      "1        0    0    0    0    0    0    0    0    0    0  \n",
      "2        0    0    0    0    0    0    0    0    0    0  \n",
      "3        0    0    0    0    0    0    0    0    0    0  \n",
      "4        0    0    0    0    0    0    0    0    0    0  \n",
      "...    ...  ...  ...  ...  ...  ...  ...  ...  ...  ...  \n",
      "29895    0    0    0    0    0    0    0    0    0    0  \n",
      "29896    0    0    0    0    0    0    0    0    0    0  \n",
      "29897    0    0    0    0    0    0    0    0    0    0  \n",
      "29898    0    0    0    0    0    0    0    0    0    0  \n",
      "29899    0    0    0    0    0    0    0    0    0    0  \n",
      "\n",
      "[29900 rows x 786 columns]\n"
     ]
    }
   ],
   "source": [
    "# Load data\n",
    "#(x_train, y_train), (x_test, y_test) = mnist.load_data()\n",
    "#x_train, x_test = x_train / 255.0, x_test / 255.0  # Normalize data\n",
    "\n",
    "data = pd.read_csv('TMNIST_data.csv')\n",
    "print(data)\n"
   ]
  },
  {
   "cell_type": "code",
   "execution_count": 38,
   "metadata": {},
   "outputs": [
    {
     "name": "stdout",
     "output_type": "stream",
     "text": [
      "number of unique fonts = 2990\n"
     ]
    },
    {
     "data": {
      "image/png": "[encoded data removed]",
      "text/plain": [
       "<Figure size 640x480 with 1 Axes>"
      ]
     },
     "metadata": {},
     "output_type": "display_data"
    }
   ],
   "source": [
    "print(\"number of unique fonts =\",data['names'].nunique())\n",
    "\n",
    "sns.histplot(data['labels'], bins=10, kde=False)  # kde=False if you do not want the density estimate curve\n",
    "plt.title('Distribution of Labels')\n",
    "plt.xlabel('Labels')\n",
    "plt.ylabel('Frequency')\n",
    "plt.show()"
   ]
  },
  {
   "cell_type": "markdown",
   "metadata": {},
   "source": [
    "With this we can see how the data is distributed.\n",
    "We have 2990 fonts which make up 29900 different samples.\n",
    "We can also see that we have 10 samples for each font meaning the numbers 0-9.\n",
    "this means that the network we train will only see each type of number 1 time.\n",
    "\n",
    "We should now seperate our data into training, test, and validation sets.\n",
    "I will be using the 70,15,15 split.\n",
    "\n",
    "- Training = 29,900 * 0.7 = 20,930\n",
    "- Test = 29,900 * 0.15 = 4,485\n",
    "- Validation = 29,900 * 0.15 = 4,485\n",
    "\n",
    "We will need to be careful how we seperate this data, if we aren't careful we could end up inadvertantly removing a greater number of examples of a given number than we intend. for example, in the entire training set there are only 2990 examples of the number 0. if we seperate ~9000 examples for our test and validation sets, its possible that we could accidentaly take most of or all the 0 examples, meaning that we will get very poor performance since we would be testing the network on things it has never seen.\n",
    "\n",
    "For this project I am going to seperate values out by font, this way we can test to see if our algorithm understands what the specific numbers look like and can generalizes well to fonts it's never seen. "
   ]
  },
  {
   "cell_type": "code",
   "execution_count": 43,
   "metadata": {},
   "outputs": [
    {
     "name": "stdout",
     "output_type": "stream",
     "text": [
      "                 names  labels  1  2  3  4  5  6  7  8  ...  775  776  777  \\\n",
      "6519    ABeeZee-Italic       3  0  0  0  0  0  0  0  0  ...    0    0    0   \n",
      "16848   ABeeZee-Italic       2  0  0  0  0  0  0  0  0  ...    0    0    0   \n",
      "20132   ABeeZee-Italic       1  0  0  0  0  0  0  0  0  ...    0    0    0   \n",
      "10904   ABeeZee-Italic       4  0  0  0  0  0  0  0  0  ...    0    0    0   \n",
      "2750    ABeeZee-Italic       8  0  0  0  0  0  0  0  0  ...    0    0    0   \n",
      "10538   ABeeZee-Italic       7  0  0  0  0  0  0  0  0  ...    0    0    0   \n",
      "13586   ABeeZee-Italic       0  0  0  0  0  0  0  0  0  ...    0    0    0   \n",
      "15902   ABeeZee-Italic       6  0  0  0  0  0  0  0  0  ...    0    0    0   \n",
      "22972   ABeeZee-Italic       5  0  0  0  0  0  0  0  0  ...    0    0    0   \n",
      "29626   ABeeZee-Italic       9  0  0  0  0  0  0  0  0  ...    0    0    0   \n",
      "19350  ABeeZee-Regular       3  0  0  0  0  0  0  0  0  ...    0    0    0   \n",
      "3225   ABeeZee-Regular       5  0  0  0  0  0  0  0  0  ...    0    0    0   \n",
      "6886   ABeeZee-Regular       6  0  0  0  0  0  0  0  0  ...    0    0    0   \n",
      "15334  ABeeZee-Regular       2  0  0  0  0  0  0  0  0  ...    0    0    0   \n",
      "18682  ABeeZee-Regular       0  0  0  0  0  0  0  0  0  ...    0    0    0   \n",
      "25244  ABeeZee-Regular       8  0  0  0  0  0  0  0  0  ...    0    0    0   \n",
      "13215  ABeeZee-Regular       9  0  0  0  0  0  0  0  0  ...    0    0    0   \n",
      "17090  ABeeZee-Regular       1  0  0  0  0  0  0  0  0  ...    0    0    0   \n",
      "7894   ABeeZee-Regular       4  0  0  0  0  0  0  0  0  ...    0    0    0   \n",
      "20451  ABeeZee-Regular       7  0  0  0  0  0  0  0  0  ...    0    0    0   \n",
      "10398     Abel-Regular       6  0  0  0  0  0  0  0  0  ...    0    0    0   \n",
      "29038     Abel-Regular       3  0  0  0  0  0  0  0  0  ...    0    0    0   \n",
      "27199     Abel-Regular       0  0  0  0  0  0  0  0  0  ...    0    0    0   \n",
      "4696      Abel-Regular       1  0  0  0  0  0  0  0  0  ...    0    0    0   \n",
      "5200      Abel-Regular       5  0  0  0  0  0  0  0  0  ...    0    0    0   \n",
      "\n",
      "       778  779  780  781  782  783  784  \n",
      "6519     0    0    0    0    0    0    0  \n",
      "16848    0    0    0    0    0    0    0  \n",
      "20132    0    0    0    0    0    0    0  \n",
      "10904    0    0    0    0    0    0    0  \n",
      "2750     0    0    0    0    0    0    0  \n",
      "10538    0    0    0    0    0    0    0  \n",
      "13586    0    0    0    0    0    0    0  \n",
      "15902    0    0    0    0    0    0    0  \n",
      "22972    0    0    0    0    0    0    0  \n",
      "29626    0    0    0    0    0    0    0  \n",
      "19350    0    0    0    0    0    0    0  \n",
      "3225     0    0    0    0    0    0    0  \n",
      "6886     0    0    0    0    0    0    0  \n",
      "15334    0    0    0    0    0    0    0  \n",
      "18682    0    0    0    0    0    0    0  \n",
      "25244    0    0    0    0    0    0    0  \n",
      "13215    0    0    0    0    0    0    0  \n",
      "17090    0    0    0    0    0    0    0  \n",
      "7894     0    0    0    0    0    0    0  \n",
      "20451    0    0    0    0    0    0    0  \n",
      "10398    0    0    0    0    0    0    0  \n",
      "29038    0    0    0    0    0    0    0  \n",
      "27199    0    0    0    0    0    0    0  \n",
      "4696     0    0    0    0    0    0    0  \n",
      "5200     0    0    0    0    0    0    0  \n",
      "\n",
      "[25 rows x 786 columns]\n"
     ]
    }
   ],
   "source": [
    "#lets sort our data by font names and double check tha we have 10 values for each font\n",
    "data = data.sort_values(by='names')\n",
    "print(data[:25])"
   ]
  },
  {
   "cell_type": "markdown",
   "metadata": {},
   "source": [
    "The data looks just like we expected it to. Now we can go ahead and pull out the number of fonts that we want for the test and validation sets.\n",
    "\n",
    "- Test: 4,485/10 = 448.5\n",
    "- Validation: 4,485/10 = 448.5\n",
    "\n",
    "Since each font has 10 values we will round each set up to 450 fonts, we will do this just to keep the number of examples for each number the same."
   ]
  },
  {
   "cell_type": "code",
   "execution_count": 44,
   "metadata": {},
   "outputs": [],
   "source": [
    "#Lets pull our data into its training, test and validation sets\n",
    "test_data = data.iloc[:4500]\n",
    "validation_data = data.iloc[4500:9000]\n",
    "training_data = data.iloc[9000:]"
   ]
  },
  {
   "cell_type": "markdown",
   "metadata": {},
   "source": [
    "Now that we have our data figured out, lets build our visualizer."
   ]
  },
  {
   "cell_type": "code",
   "execution_count": 39,
   "metadata": {},
   "outputs": [
    {
     "name": "stderr",
     "output_type": "stream",
     "text": [
      "c:\\Users\\yohas\\AppData\\Local\\Programs\\Python\\Python312\\Lib\\site-packages\\keras\\src\\layers\\reshaping\\flatten.py:37: UserWarning: Do not pass an `input_shape`/`input_dim` argument to a layer. When using Sequential models, prefer using an `Input(shape)` object as the first layer in the model instead.\n",
      "  super().__init__(**kwargs)\n"
     ]
    },
    {
     "name": "stdout",
     "output_type": "stream",
     "text": [
      "Epoch 1/10\n"
     ]
    },
    {
     "ename": "KeyboardInterrupt",
     "evalue": "",
     "output_type": "error",
     "traceback": [
      "\u001b[1;31m---------------------------------------------------------------------------\u001b[0m",
      "\u001b[1;31mKeyboardInterrupt\u001b[0m                         Traceback (most recent call last)",
      "Cell \u001b[1;32mIn[39], line 13\u001b[0m\n\u001b[0;32m      8\u001b[0m model\u001b[38;5;241m.\u001b[39mcompile(optimizer\u001b[38;5;241m=\u001b[39m\u001b[38;5;124m'\u001b[39m\u001b[38;5;124madam\u001b[39m\u001b[38;5;124m'\u001b[39m,\n\u001b[0;32m      9\u001b[0m               loss\u001b[38;5;241m=\u001b[39m\u001b[38;5;124m'\u001b[39m\u001b[38;5;124msparse_categorical_crossentropy\u001b[39m\u001b[38;5;124m'\u001b[39m,\n\u001b[0;32m     10\u001b[0m               metrics\u001b[38;5;241m=\u001b[39m[\u001b[38;5;124m'\u001b[39m\u001b[38;5;124maccuracy\u001b[39m\u001b[38;5;124m'\u001b[39m])\n\u001b[0;32m     12\u001b[0m \u001b[38;5;66;03m# Train the model\u001b[39;00m\n\u001b[1;32m---> 13\u001b[0m \u001b[43mmodel\u001b[49m\u001b[38;5;241;43m.\u001b[39;49m\u001b[43mfit\u001b[49m\u001b[43m(\u001b[49m\u001b[43mx_train\u001b[49m\u001b[43m,\u001b[49m\u001b[43m \u001b[49m\u001b[43my_train\u001b[49m\u001b[43m,\u001b[49m\u001b[43m \u001b[49m\u001b[43mepochs\u001b[49m\u001b[38;5;241;43m=\u001b[39;49m\u001b[38;5;241;43m10\u001b[39;49m\u001b[43m,\u001b[49m\u001b[43m \u001b[49m\u001b[43mvalidation_data\u001b[49m\u001b[38;5;241;43m=\u001b[39;49m\u001b[43m(\u001b[49m\u001b[43mx_test\u001b[49m\u001b[43m,\u001b[49m\u001b[43m \u001b[49m\u001b[43my_test\u001b[49m\u001b[43m)\u001b[49m\u001b[43m)\u001b[49m\n",
      "File \u001b[1;32mc:\\Users\\yohas\\AppData\\Local\\Programs\\Python\\Python312\\Lib\\site-packages\\keras\\src\\utils\\traceback_utils.py:117\u001b[0m, in \u001b[0;36mfilter_traceback.<locals>.error_handler\u001b[1;34m(*args, **kwargs)\u001b[0m\n\u001b[0;32m    115\u001b[0m filtered_tb \u001b[38;5;241m=\u001b[39m \u001b[38;5;28;01mNone\u001b[39;00m\n\u001b[0;32m    116\u001b[0m \u001b[38;5;28;01mtry\u001b[39;00m:\n\u001b[1;32m--> 117\u001b[0m     \u001b[38;5;28;01mreturn\u001b[39;00m \u001b[43mfn\u001b[49m\u001b[43m(\u001b[49m\u001b[38;5;241;43m*\u001b[39;49m\u001b[43margs\u001b[49m\u001b[43m,\u001b[49m\u001b[43m \u001b[49m\u001b[38;5;241;43m*\u001b[39;49m\u001b[38;5;241;43m*\u001b[39;49m\u001b[43mkwargs\u001b[49m\u001b[43m)\u001b[49m\n\u001b[0;32m    118\u001b[0m \u001b[38;5;28;01mexcept\u001b[39;00m \u001b[38;5;167;01mException\u001b[39;00m \u001b[38;5;28;01mas\u001b[39;00m e:\n\u001b[0;32m    119\u001b[0m     filtered_tb \u001b[38;5;241m=\u001b[39m _process_traceback_frames(e\u001b[38;5;241m.\u001b[39m__traceback__)\n",
      "File \u001b[1;32mc:\\Users\\yohas\\AppData\\Local\\Programs\\Python\\Python312\\Lib\\site-packages\\keras\\src\\backend\\tensorflow\\trainer.py:310\u001b[0m, in \u001b[0;36mTensorFlowTrainer.fit\u001b[1;34m(self, x, y, batch_size, epochs, verbose, callbacks, validation_split, validation_data, shuffle, class_weight, sample_weight, initial_epoch, steps_per_epoch, validation_steps, validation_batch_size, validation_freq)\u001b[0m\n\u001b[0;32m    308\u001b[0m \u001b[38;5;28;01mfor\u001b[39;00m epoch \u001b[38;5;129;01min\u001b[39;00m \u001b[38;5;28mrange\u001b[39m(initial_epoch, epochs):\n\u001b[0;32m    309\u001b[0m     \u001b[38;5;28mself\u001b[39m\u001b[38;5;241m.\u001b[39mreset_metrics()\n\u001b[1;32m--> 310\u001b[0m     \u001b[43mcallbacks\u001b[49m\u001b[38;5;241;43m.\u001b[39;49m\u001b[43mon_epoch_begin\u001b[49m\u001b[43m(\u001b[49m\u001b[43mepoch\u001b[49m\u001b[43m)\u001b[49m\n\u001b[0;32m    311\u001b[0m     \u001b[38;5;28;01mwith\u001b[39;00m epoch_iterator\u001b[38;5;241m.\u001b[39mcatch_stop_iteration():\n\u001b[0;32m    312\u001b[0m         \u001b[38;5;28;01mfor\u001b[39;00m step, iterator \u001b[38;5;129;01min\u001b[39;00m epoch_iterator\u001b[38;5;241m.\u001b[39menumerate_epoch():\n",
      "File \u001b[1;32mc:\\Users\\yohas\\AppData\\Local\\Programs\\Python\\Python312\\Lib\\site-packages\\keras\\src\\callbacks\\callback_list.py:91\u001b[0m, in \u001b[0;36mCallbackList.on_epoch_begin\u001b[1;34m(self, epoch, logs)\u001b[0m\n\u001b[0;32m     89\u001b[0m logs \u001b[38;5;241m=\u001b[39m logs \u001b[38;5;129;01mor\u001b[39;00m {}\n\u001b[0;32m     90\u001b[0m \u001b[38;5;28;01mfor\u001b[39;00m callback \u001b[38;5;129;01min\u001b[39;00m \u001b[38;5;28mself\u001b[39m\u001b[38;5;241m.\u001b[39mcallbacks:\n\u001b[1;32m---> 91\u001b[0m     \u001b[43mcallback\u001b[49m\u001b[38;5;241;43m.\u001b[39;49m\u001b[43mon_epoch_begin\u001b[49m\u001b[43m(\u001b[49m\u001b[43mepoch\u001b[49m\u001b[43m,\u001b[49m\u001b[43m \u001b[49m\u001b[43mlogs\u001b[49m\u001b[43m)\u001b[49m\n",
      "File \u001b[1;32mc:\\Users\\yohas\\AppData\\Local\\Programs\\Python\\Python312\\Lib\\site-packages\\keras\\src\\callbacks\\progbar_logger.py:55\u001b[0m, in \u001b[0;36mProgbarLogger.on_epoch_begin\u001b[1;34m(self, epoch, logs)\u001b[0m\n\u001b[0;32m     53\u001b[0m \u001b[38;5;28mself\u001b[39m\u001b[38;5;241m.\u001b[39m_maybe_init_progbar()\n\u001b[0;32m     54\u001b[0m \u001b[38;5;28;01mif\u001b[39;00m \u001b[38;5;28mself\u001b[39m\u001b[38;5;241m.\u001b[39mverbose \u001b[38;5;129;01mand\u001b[39;00m \u001b[38;5;28mself\u001b[39m\u001b[38;5;241m.\u001b[39mepochs \u001b[38;5;241m>\u001b[39m \u001b[38;5;241m1\u001b[39m:\n\u001b[1;32m---> 55\u001b[0m     \u001b[43mio_utils\u001b[49m\u001b[38;5;241;43m.\u001b[39;49m\u001b[43mprint_msg\u001b[49m\u001b[43m(\u001b[49m\u001b[38;5;124;43mf\u001b[39;49m\u001b[38;5;124;43m\"\u001b[39;49m\u001b[38;5;124;43mEpoch \u001b[39;49m\u001b[38;5;132;43;01m{\u001b[39;49;00m\u001b[43mepoch\u001b[49m\u001b[38;5;250;43m \u001b[39;49m\u001b[38;5;241;43m+\u001b[39;49m\u001b[38;5;250;43m \u001b[39;49m\u001b[38;5;241;43m1\u001b[39;49m\u001b[38;5;132;43;01m}\u001b[39;49;00m\u001b[38;5;124;43m/\u001b[39;49m\u001b[38;5;132;43;01m{\u001b[39;49;00m\u001b[38;5;28;43mself\u001b[39;49m\u001b[38;5;241;43m.\u001b[39;49m\u001b[43mepochs\u001b[49m\u001b[38;5;132;43;01m}\u001b[39;49;00m\u001b[38;5;124;43m\"\u001b[39;49m\u001b[43m)\u001b[49m\n",
      "File \u001b[1;32mc:\\Users\\yohas\\AppData\\Local\\Programs\\Python\\Python312\\Lib\\site-packages\\keras\\src\\utils\\io_utils.py:99\u001b[0m, in \u001b[0;36mprint_msg\u001b[1;34m(message, line_break)\u001b[0m\n\u001b[0;32m     97\u001b[0m     \u001b[38;5;28;01melse\u001b[39;00m:\n\u001b[0;32m     98\u001b[0m         sys\u001b[38;5;241m.\u001b[39mstdout\u001b[38;5;241m.\u001b[39mwrite(message)\n\u001b[1;32m---> 99\u001b[0m     \u001b[43msys\u001b[49m\u001b[38;5;241;43m.\u001b[39;49m\u001b[43mstdout\u001b[49m\u001b[38;5;241;43m.\u001b[39;49m\u001b[43mflush\u001b[49m\u001b[43m(\u001b[49m\u001b[43m)\u001b[49m\n\u001b[0;32m    100\u001b[0m \u001b[38;5;28;01melse\u001b[39;00m:\n\u001b[0;32m    101\u001b[0m     logging\u001b[38;5;241m.\u001b[39minfo(message)\n",
      "File \u001b[1;32m~\\AppData\\Roaming\\Python\\Python312\\site-packages\\ipykernel\\iostream.py:609\u001b[0m, in \u001b[0;36mOutStream.flush\u001b[1;34m(self)\u001b[0m\n\u001b[0;32m    607\u001b[0m     \u001b[38;5;28mself\u001b[39m\u001b[38;5;241m.\u001b[39mpub_thread\u001b[38;5;241m.\u001b[39mschedule(evt\u001b[38;5;241m.\u001b[39mset)\n\u001b[0;32m    608\u001b[0m     \u001b[38;5;66;03m# and give a timeout to avoid\u001b[39;00m\n\u001b[1;32m--> 609\u001b[0m     \u001b[38;5;28;01mif\u001b[39;00m \u001b[38;5;129;01mnot\u001b[39;00m \u001b[43mevt\u001b[49m\u001b[38;5;241;43m.\u001b[39;49m\u001b[43mwait\u001b[49m\u001b[43m(\u001b[49m\u001b[38;5;28;43mself\u001b[39;49m\u001b[38;5;241;43m.\u001b[39;49m\u001b[43mflush_timeout\u001b[49m\u001b[43m)\u001b[49m:\n\u001b[0;32m    610\u001b[0m         \u001b[38;5;66;03m# write directly to __stderr__ instead of warning because\u001b[39;00m\n\u001b[0;32m    611\u001b[0m         \u001b[38;5;66;03m# if this is happening sys.stderr may be the problem.\u001b[39;00m\n\u001b[0;32m    612\u001b[0m         \u001b[38;5;28mprint\u001b[39m(\u001b[38;5;124m\"\u001b[39m\u001b[38;5;124mIOStream.flush timed out\u001b[39m\u001b[38;5;124m\"\u001b[39m, file\u001b[38;5;241m=\u001b[39msys\u001b[38;5;241m.\u001b[39m__stderr__)\n\u001b[0;32m    613\u001b[0m \u001b[38;5;28;01melse\u001b[39;00m:\n",
      "File \u001b[1;32mc:\\Users\\yohas\\AppData\\Local\\Programs\\Python\\Python312\\Lib\\threading.py:655\u001b[0m, in \u001b[0;36mEvent.wait\u001b[1;34m(self, timeout)\u001b[0m\n\u001b[0;32m    653\u001b[0m signaled \u001b[38;5;241m=\u001b[39m \u001b[38;5;28mself\u001b[39m\u001b[38;5;241m.\u001b[39m_flag\n\u001b[0;32m    654\u001b[0m \u001b[38;5;28;01mif\u001b[39;00m \u001b[38;5;129;01mnot\u001b[39;00m signaled:\n\u001b[1;32m--> 655\u001b[0m     signaled \u001b[38;5;241m=\u001b[39m \u001b[38;5;28;43mself\u001b[39;49m\u001b[38;5;241;43m.\u001b[39;49m\u001b[43m_cond\u001b[49m\u001b[38;5;241;43m.\u001b[39;49m\u001b[43mwait\u001b[49m\u001b[43m(\u001b[49m\u001b[43mtimeout\u001b[49m\u001b[43m)\u001b[49m\n\u001b[0;32m    656\u001b[0m \u001b[38;5;28;01mreturn\u001b[39;00m signaled\n",
      "File \u001b[1;32mc:\\Users\\yohas\\AppData\\Local\\Programs\\Python\\Python312\\Lib\\threading.py:359\u001b[0m, in \u001b[0;36mCondition.wait\u001b[1;34m(self, timeout)\u001b[0m\n\u001b[0;32m    357\u001b[0m \u001b[38;5;28;01melse\u001b[39;00m:\n\u001b[0;32m    358\u001b[0m     \u001b[38;5;28;01mif\u001b[39;00m timeout \u001b[38;5;241m>\u001b[39m \u001b[38;5;241m0\u001b[39m:\n\u001b[1;32m--> 359\u001b[0m         gotit \u001b[38;5;241m=\u001b[39m \u001b[43mwaiter\u001b[49m\u001b[38;5;241;43m.\u001b[39;49m\u001b[43macquire\u001b[49m\u001b[43m(\u001b[49m\u001b[38;5;28;43;01mTrue\u001b[39;49;00m\u001b[43m,\u001b[49m\u001b[43m \u001b[49m\u001b[43mtimeout\u001b[49m\u001b[43m)\u001b[49m\n\u001b[0;32m    360\u001b[0m     \u001b[38;5;28;01melse\u001b[39;00m:\n\u001b[0;32m    361\u001b[0m         gotit \u001b[38;5;241m=\u001b[39m waiter\u001b[38;5;241m.\u001b[39macquire(\u001b[38;5;28;01mFalse\u001b[39;00m)\n",
      "\u001b[1;31mKeyboardInterrupt\u001b[0m: "
     ]
    }
   ],
   "source": [
    "# Define model\n",
    "model = Sequential([\n",
    "    Flatten(input_shape=(28, 28)),\n",
    "    Dense(128, activation='relu'),\n",
    "    Dense(10, activation='softmax')\n",
    "])\n",
    "\n",
    "model.compile(optimizer='adam',\n",
    "              loss='sparse_categorical_crossentropy',\n",
    "              metrics=['accuracy'])\n",
    "\n",
    "# Train the model\n",
    "model.fit(x_train, y_train, epochs=10, validation_data=(x_test, y_test))"
   ]
  },
  {
   "cell_type": "markdown",
   "metadata": {},
   "source": []
  },
  {
   "cell_type": "code",
   "execution_count": 18,
   "metadata": {},
   "outputs": [
    {
     "name": "stdout",
     "output_type": "stream",
     "text": [
      "\u001b[1m1/1\u001b[0m \u001b[32m━━━━━━━━━━━━━━━━━━━━\u001b[0m\u001b[37m\u001b[0m \u001b[1m0s\u001b[0m 42ms/step\n",
      "\u001b[1m1/1\u001b[0m \u001b[32m━━━━━━━━━━━━━━━━━━━━\u001b[0m\u001b[37m\u001b[0m \u001b[1m0s\u001b[0m 16ms/step\n"
     ]
    },
    {
     "data": {
      "image/png": "[encoded data removed]",
      "text/plain": [
       "<Figure size 640x480 with 1 Axes>"
      ]
     },
     "metadata": {},
     "output_type": "display_data"
    }
   ],
   "source": [
    "#show a random image with the lable and prediction in the title along with the cirtanty of the prediction \n",
    "def show_image():\n",
    "    index = np.random.randint(0, x_test.shape[0])\n",
    "    image = x_test[index]\n",
    "    label = y_test[index]\n",
    "    prediction = model.predict(np.array([image])).argmax()\n",
    "    certainty = model.predict(np.array([image])).max()\n",
    "    plt.title(f\"Label: {label}, Prediction: {prediction}, Certainty: {certainty}\")\n",
    "    plt.imshow(image, cmap='gray')\n",
    "    plt.show()\n",
    "show_image()"
   ]
  }
 ],
 "metadata": {
  "kernelspec": {
   "display_name": "Python 3",
   "language": "python",
   "name": "python3"
  },
  "language_info": {
   "codemirror_mode": {
    "name": "ipython",
    "version": 3
   },
   "file_extension": ".py",
   "mimetype": "text/x-python",
   "name": "python",
   "nbconvert_exporter": "python",
   "pygments_lexer": "ipython3",
   "version": "3.12.2"
  }
 },
 "nbformat": 4,
 "nbformat_minor": 2
}
